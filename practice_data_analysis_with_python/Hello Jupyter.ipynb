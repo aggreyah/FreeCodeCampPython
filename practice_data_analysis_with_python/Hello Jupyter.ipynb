{
 "cells": [
  {
   "cell_type": "markdown",
   "metadata": {},
   "source": [
    "### Hands on"
   ]
  },
  {
   "cell_type": "code",
   "execution_count": 1,
   "metadata": {},
   "outputs": [],
   "source": [
    "import numpy as np\n",
    "import pandas as pd\n",
    "import matplotlib.pyplot as plt\n",
    "import tensorflow as tf\n",
    "import sys"
   ]
  },
  {
   "cell_type": "code",
   "execution_count": null,
   "metadata": {},
   "outputs": [],
   "source": []
  },
  {
   "cell_type": "markdown",
   "metadata": {},
   "source": [
    "### Loading data"
   ]
  },
  {
   "cell_type": "markdown",
   "metadata": {},
   "source": [
    "*head ./some-data/sales_data.csv*"
   ]
  },
  {
   "cell_type": "code",
   "execution_count": 2,
   "metadata": {},
   "outputs": [],
   "source": [
    "sales = pd.read_csv(\"some-data/sales_data.csv\", parse_dates=[\"Date\"])"
   ]
  },
  {
   "cell_type": "code",
   "execution_count": 3,
   "metadata": {},
   "outputs": [
    {
     "data": {
      "text/html": [
       "<div>\n",
       "<style scoped>\n",
       "    .dataframe tbody tr th:only-of-type {\n",
       "        vertical-align: middle;\n",
       "    }\n",
       "\n",
       "    .dataframe tbody tr th {\n",
       "        vertical-align: top;\n",
       "    }\n",
       "\n",
       "    .dataframe thead th {\n",
       "        text-align: right;\n",
       "    }\n",
       "</style>\n",
       "<table border=\"1\" class=\"dataframe\">\n",
       "  <thead>\n",
       "    <tr style=\"text-align: right;\">\n",
       "      <th></th>\n",
       "      <th>Date</th>\n",
       "      <th>Day</th>\n",
       "      <th>Month</th>\n",
       "      <th>Year</th>\n",
       "      <th>Customer_Age</th>\n",
       "      <th>Age_Group</th>\n",
       "      <th>Customer_Gender</th>\n",
       "      <th>Country</th>\n",
       "      <th>State</th>\n",
       "      <th>Product_Category</th>\n",
       "      <th>Sub_Category</th>\n",
       "      <th>Product</th>\n",
       "      <th>Order_Quantity</th>\n",
       "      <th>Unit_Cost</th>\n",
       "      <th>Unit_Price</th>\n",
       "      <th>Profit</th>\n",
       "      <th>Cost</th>\n",
       "      <th>Revenue</th>\n",
       "    </tr>\n",
       "  </thead>\n",
       "  <tbody>\n",
       "    <tr>\n",
       "      <th>0</th>\n",
       "      <td>2013-11-26</td>\n",
       "      <td>26</td>\n",
       "      <td>November</td>\n",
       "      <td>2013</td>\n",
       "      <td>19</td>\n",
       "      <td>Youth (&lt;25)</td>\n",
       "      <td>M</td>\n",
       "      <td>Canada</td>\n",
       "      <td>British Columbia</td>\n",
       "      <td>Accessories</td>\n",
       "      <td>Bike Racks</td>\n",
       "      <td>Hitch Rack - 4-Bike</td>\n",
       "      <td>8</td>\n",
       "      <td>45</td>\n",
       "      <td>120</td>\n",
       "      <td>590</td>\n",
       "      <td>360</td>\n",
       "      <td>950</td>\n",
       "    </tr>\n",
       "    <tr>\n",
       "      <th>1</th>\n",
       "      <td>2015-11-26</td>\n",
       "      <td>26</td>\n",
       "      <td>November</td>\n",
       "      <td>2015</td>\n",
       "      <td>19</td>\n",
       "      <td>Youth (&lt;25)</td>\n",
       "      <td>M</td>\n",
       "      <td>Canada</td>\n",
       "      <td>British Columbia</td>\n",
       "      <td>Accessories</td>\n",
       "      <td>Bike Racks</td>\n",
       "      <td>Hitch Rack - 4-Bike</td>\n",
       "      <td>8</td>\n",
       "      <td>45</td>\n",
       "      <td>120</td>\n",
       "      <td>590</td>\n",
       "      <td>360</td>\n",
       "      <td>950</td>\n",
       "    </tr>\n",
       "    <tr>\n",
       "      <th>2</th>\n",
       "      <td>2014-03-23</td>\n",
       "      <td>23</td>\n",
       "      <td>March</td>\n",
       "      <td>2014</td>\n",
       "      <td>49</td>\n",
       "      <td>Adults (35-64)</td>\n",
       "      <td>M</td>\n",
       "      <td>Australia</td>\n",
       "      <td>New South Wales</td>\n",
       "      <td>Accessories</td>\n",
       "      <td>Bike Racks</td>\n",
       "      <td>Hitch Rack - 4-Bike</td>\n",
       "      <td>23</td>\n",
       "      <td>45</td>\n",
       "      <td>120</td>\n",
       "      <td>1366</td>\n",
       "      <td>1035</td>\n",
       "      <td>2401</td>\n",
       "    </tr>\n",
       "    <tr>\n",
       "      <th>3</th>\n",
       "      <td>2016-03-23</td>\n",
       "      <td>23</td>\n",
       "      <td>March</td>\n",
       "      <td>2016</td>\n",
       "      <td>49</td>\n",
       "      <td>Adults (35-64)</td>\n",
       "      <td>M</td>\n",
       "      <td>Australia</td>\n",
       "      <td>New South Wales</td>\n",
       "      <td>Accessories</td>\n",
       "      <td>Bike Racks</td>\n",
       "      <td>Hitch Rack - 4-Bike</td>\n",
       "      <td>20</td>\n",
       "      <td>45</td>\n",
       "      <td>120</td>\n",
       "      <td>1188</td>\n",
       "      <td>900</td>\n",
       "      <td>2088</td>\n",
       "    </tr>\n",
       "    <tr>\n",
       "      <th>4</th>\n",
       "      <td>2014-05-15</td>\n",
       "      <td>15</td>\n",
       "      <td>May</td>\n",
       "      <td>2014</td>\n",
       "      <td>47</td>\n",
       "      <td>Adults (35-64)</td>\n",
       "      <td>F</td>\n",
       "      <td>Australia</td>\n",
       "      <td>New South Wales</td>\n",
       "      <td>Accessories</td>\n",
       "      <td>Bike Racks</td>\n",
       "      <td>Hitch Rack - 4-Bike</td>\n",
       "      <td>4</td>\n",
       "      <td>45</td>\n",
       "      <td>120</td>\n",
       "      <td>238</td>\n",
       "      <td>180</td>\n",
       "      <td>418</td>\n",
       "    </tr>\n",
       "  </tbody>\n",
       "</table>\n",
       "</div>"
      ],
      "text/plain": [
       "        Date  Day     Month  Year  Customer_Age       Age_Group  \\\n",
       "0 2013-11-26   26  November  2013            19     Youth (<25)   \n",
       "1 2015-11-26   26  November  2015            19     Youth (<25)   \n",
       "2 2014-03-23   23     March  2014            49  Adults (35-64)   \n",
       "3 2016-03-23   23     March  2016            49  Adults (35-64)   \n",
       "4 2014-05-15   15       May  2014            47  Adults (35-64)   \n",
       "\n",
       "  Customer_Gender    Country             State Product_Category Sub_Category  \\\n",
       "0               M     Canada  British Columbia      Accessories   Bike Racks   \n",
       "1               M     Canada  British Columbia      Accessories   Bike Racks   \n",
       "2               M  Australia   New South Wales      Accessories   Bike Racks   \n",
       "3               M  Australia   New South Wales      Accessories   Bike Racks   \n",
       "4               F  Australia   New South Wales      Accessories   Bike Racks   \n",
       "\n",
       "               Product  Order_Quantity  Unit_Cost  Unit_Price  Profit  Cost  \\\n",
       "0  Hitch Rack - 4-Bike               8         45         120     590   360   \n",
       "1  Hitch Rack - 4-Bike               8         45         120     590   360   \n",
       "2  Hitch Rack - 4-Bike              23         45         120    1366  1035   \n",
       "3  Hitch Rack - 4-Bike              20         45         120    1188   900   \n",
       "4  Hitch Rack - 4-Bike               4         45         120     238   180   \n",
       "\n",
       "   Revenue  \n",
       "0      950  \n",
       "1      950  \n",
       "2     2401  \n",
       "3     2088  \n",
       "4      418  "
      ]
     },
     "execution_count": 3,
     "metadata": {},
     "output_type": "execute_result"
    }
   ],
   "source": [
    "sales.head()"
   ]
  },
  {
   "cell_type": "code",
   "execution_count": 4,
   "metadata": {},
   "outputs": [
    {
     "data": {
      "text/plain": [
       "(113036, 18)"
      ]
     },
     "execution_count": 4,
     "metadata": {},
     "output_type": "execute_result"
    }
   ],
   "source": [
    "sales.shape"
   ]
  },
  {
   "cell_type": "code",
   "execution_count": 5,
   "metadata": {},
   "outputs": [
    {
     "name": "stdout",
     "output_type": "stream",
     "text": [
      "<class 'pandas.core.frame.DataFrame'>\n",
      "RangeIndex: 113036 entries, 0 to 113035\n",
      "Data columns (total 18 columns):\n",
      " #   Column            Non-Null Count   Dtype         \n",
      "---  ------            --------------   -----         \n",
      " 0   Date              113036 non-null  datetime64[ns]\n",
      " 1   Day               113036 non-null  int64         \n",
      " 2   Month             113036 non-null  object        \n",
      " 3   Year              113036 non-null  int64         \n",
      " 4   Customer_Age      113036 non-null  int64         \n",
      " 5   Age_Group         113036 non-null  object        \n",
      " 6   Customer_Gender   113036 non-null  object        \n",
      " 7   Country           113036 non-null  object        \n",
      " 8   State             113036 non-null  object        \n",
      " 9   Product_Category  113036 non-null  object        \n",
      " 10  Sub_Category      113036 non-null  object        \n",
      " 11  Product           113036 non-null  object        \n",
      " 12  Order_Quantity    113036 non-null  int64         \n",
      " 13  Unit_Cost         113036 non-null  int64         \n",
      " 14  Unit_Price        113036 non-null  int64         \n",
      " 15  Profit            113036 non-null  int64         \n",
      " 16  Cost              113036 non-null  int64         \n",
      " 17  Revenue           113036 non-null  int64         \n",
      "dtypes: datetime64[ns](1), int64(9), object(8)\n",
      "memory usage: 15.5+ MB\n"
     ]
    }
   ],
   "source": [
    "sales.info()"
   ]
  },
  {
   "cell_type": "code",
   "execution_count": 6,
   "metadata": {},
   "outputs": [
    {
     "data": {
      "text/html": [
       "<div>\n",
       "<style scoped>\n",
       "    .dataframe tbody tr th:only-of-type {\n",
       "        vertical-align: middle;\n",
       "    }\n",
       "\n",
       "    .dataframe tbody tr th {\n",
       "        vertical-align: top;\n",
       "    }\n",
       "\n",
       "    .dataframe thead th {\n",
       "        text-align: right;\n",
       "    }\n",
       "</style>\n",
       "<table border=\"1\" class=\"dataframe\">\n",
       "  <thead>\n",
       "    <tr style=\"text-align: right;\">\n",
       "      <th></th>\n",
       "      <th>Day</th>\n",
       "      <th>Year</th>\n",
       "      <th>Customer_Age</th>\n",
       "      <th>Order_Quantity</th>\n",
       "      <th>Unit_Cost</th>\n",
       "      <th>Unit_Price</th>\n",
       "      <th>Profit</th>\n",
       "      <th>Cost</th>\n",
       "      <th>Revenue</th>\n",
       "    </tr>\n",
       "  </thead>\n",
       "  <tbody>\n",
       "    <tr>\n",
       "      <th>count</th>\n",
       "      <td>113036.000000</td>\n",
       "      <td>113036.000000</td>\n",
       "      <td>113036.000000</td>\n",
       "      <td>113036.000000</td>\n",
       "      <td>113036.000000</td>\n",
       "      <td>113036.000000</td>\n",
       "      <td>113036.000000</td>\n",
       "      <td>113036.000000</td>\n",
       "      <td>113036.000000</td>\n",
       "    </tr>\n",
       "    <tr>\n",
       "      <th>mean</th>\n",
       "      <td>15.665753</td>\n",
       "      <td>2014.401739</td>\n",
       "      <td>35.919212</td>\n",
       "      <td>11.901660</td>\n",
       "      <td>267.296366</td>\n",
       "      <td>452.938427</td>\n",
       "      <td>285.051665</td>\n",
       "      <td>469.318695</td>\n",
       "      <td>754.370360</td>\n",
       "    </tr>\n",
       "    <tr>\n",
       "      <th>std</th>\n",
       "      <td>8.781567</td>\n",
       "      <td>1.272510</td>\n",
       "      <td>11.021936</td>\n",
       "      <td>9.561857</td>\n",
       "      <td>549.835483</td>\n",
       "      <td>922.071219</td>\n",
       "      <td>453.887443</td>\n",
       "      <td>884.866118</td>\n",
       "      <td>1309.094674</td>\n",
       "    </tr>\n",
       "    <tr>\n",
       "      <th>min</th>\n",
       "      <td>1.000000</td>\n",
       "      <td>2011.000000</td>\n",
       "      <td>17.000000</td>\n",
       "      <td>1.000000</td>\n",
       "      <td>1.000000</td>\n",
       "      <td>2.000000</td>\n",
       "      <td>-30.000000</td>\n",
       "      <td>1.000000</td>\n",
       "      <td>2.000000</td>\n",
       "    </tr>\n",
       "    <tr>\n",
       "      <th>25%</th>\n",
       "      <td>8.000000</td>\n",
       "      <td>2013.000000</td>\n",
       "      <td>28.000000</td>\n",
       "      <td>2.000000</td>\n",
       "      <td>2.000000</td>\n",
       "      <td>5.000000</td>\n",
       "      <td>29.000000</td>\n",
       "      <td>28.000000</td>\n",
       "      <td>63.000000</td>\n",
       "    </tr>\n",
       "    <tr>\n",
       "      <th>50%</th>\n",
       "      <td>16.000000</td>\n",
       "      <td>2014.000000</td>\n",
       "      <td>35.000000</td>\n",
       "      <td>10.000000</td>\n",
       "      <td>9.000000</td>\n",
       "      <td>24.000000</td>\n",
       "      <td>101.000000</td>\n",
       "      <td>108.000000</td>\n",
       "      <td>223.000000</td>\n",
       "    </tr>\n",
       "    <tr>\n",
       "      <th>75%</th>\n",
       "      <td>23.000000</td>\n",
       "      <td>2016.000000</td>\n",
       "      <td>43.000000</td>\n",
       "      <td>20.000000</td>\n",
       "      <td>42.000000</td>\n",
       "      <td>70.000000</td>\n",
       "      <td>358.000000</td>\n",
       "      <td>432.000000</td>\n",
       "      <td>800.000000</td>\n",
       "    </tr>\n",
       "    <tr>\n",
       "      <th>max</th>\n",
       "      <td>31.000000</td>\n",
       "      <td>2016.000000</td>\n",
       "      <td>87.000000</td>\n",
       "      <td>32.000000</td>\n",
       "      <td>2171.000000</td>\n",
       "      <td>3578.000000</td>\n",
       "      <td>15096.000000</td>\n",
       "      <td>42978.000000</td>\n",
       "      <td>58074.000000</td>\n",
       "    </tr>\n",
       "  </tbody>\n",
       "</table>\n",
       "</div>"
      ],
      "text/plain": [
       "                 Day           Year   Customer_Age  Order_Quantity  \\\n",
       "count  113036.000000  113036.000000  113036.000000   113036.000000   \n",
       "mean       15.665753    2014.401739      35.919212       11.901660   \n",
       "std         8.781567       1.272510      11.021936        9.561857   \n",
       "min         1.000000    2011.000000      17.000000        1.000000   \n",
       "25%         8.000000    2013.000000      28.000000        2.000000   \n",
       "50%        16.000000    2014.000000      35.000000       10.000000   \n",
       "75%        23.000000    2016.000000      43.000000       20.000000   \n",
       "max        31.000000    2016.000000      87.000000       32.000000   \n",
       "\n",
       "           Unit_Cost     Unit_Price         Profit           Cost  \\\n",
       "count  113036.000000  113036.000000  113036.000000  113036.000000   \n",
       "mean      267.296366     452.938427     285.051665     469.318695   \n",
       "std       549.835483     922.071219     453.887443     884.866118   \n",
       "min         1.000000       2.000000     -30.000000       1.000000   \n",
       "25%         2.000000       5.000000      29.000000      28.000000   \n",
       "50%         9.000000      24.000000     101.000000     108.000000   \n",
       "75%        42.000000      70.000000     358.000000     432.000000   \n",
       "max      2171.000000    3578.000000   15096.000000   42978.000000   \n",
       "\n",
       "             Revenue  \n",
       "count  113036.000000  \n",
       "mean      754.370360  \n",
       "std      1309.094674  \n",
       "min         2.000000  \n",
       "25%        63.000000  \n",
       "50%       223.000000  \n",
       "75%       800.000000  \n",
       "max     58074.000000  "
      ]
     },
     "execution_count": 6,
     "metadata": {},
     "output_type": "execute_result"
    }
   ],
   "source": [
    "sales.describe()"
   ]
  },
  {
   "cell_type": "code",
   "execution_count": 7,
   "metadata": {
    "scrolled": true
   },
   "outputs": [
    {
     "data": {
      "text/plain": [
       "count    113036.000000\n",
       "mean        267.296366\n",
       "std         549.835483\n",
       "min           1.000000\n",
       "25%           2.000000\n",
       "50%           9.000000\n",
       "75%          42.000000\n",
       "max        2171.000000\n",
       "Name: Unit_Cost, dtype: float64"
      ]
     },
     "execution_count": 7,
     "metadata": {},
     "output_type": "execute_result"
    }
   ],
   "source": [
    "sales[\"Unit_Cost\"].describe()"
   ]
  },
  {
   "cell_type": "code",
   "execution_count": 8,
   "metadata": {},
   "outputs": [
    {
     "data": {
      "text/plain": [
       "267.296365759581"
      ]
     },
     "execution_count": 8,
     "metadata": {},
     "output_type": "execute_result"
    }
   ],
   "source": [
    "sales[\"Unit_Cost\"].mean()"
   ]
  },
  {
   "cell_type": "code",
   "execution_count": 9,
   "metadata": {},
   "outputs": [
    {
     "data": {
      "text/plain": [
       "9.0"
      ]
     },
     "execution_count": 9,
     "metadata": {},
     "output_type": "execute_result"
    }
   ],
   "source": [
    "sales[\"Unit_Cost\"].median()"
   ]
  },
  {
   "cell_type": "code",
   "execution_count": 10,
   "metadata": {},
   "outputs": [
    {
     "data": {
      "text/plain": [
       "<AxesSubplot:>"
      ]
     },
     "execution_count": 10,
     "metadata": {},
     "output_type": "execute_result"
    },
    {
     "data": {
      "image/png": "[encoded data removed]",
      "text/plain": [
       "<Figure size 1008x432 with 1 Axes>"
      ]
     },
     "metadata": {
      "needs_background": "light"
     },
     "output_type": "display_data"
    }
   ],
   "source": [
    "sales[\"Unit_Cost\"].plot(kind=\"box\", vert=False, figsize=(14,6))"
   ]
  },
  {
   "cell_type": "code",
   "execution_count": 11,
   "metadata": {},
   "outputs": [
    {
     "data": {
      "text/plain": [
       "<AxesSubplot:ylabel='Density'>"
      ]
     },
     "execution_count": 11,
     "metadata": {},
     "output_type": "execute_result"
    },
    {
     "data": {
      "image/png": "[encoded data removed]",
      "text/plain": [
       "<Figure size 1008x432 with 1 Axes>"
      ]
     },
     "metadata": {
      "needs_background": "light"
     },
     "output_type": "display_data"
    }
   ],
   "source": [
    "sales[\"Unit_Cost\"].plot(kind=\"density\", figsize=(14,6))"
   ]
  },
  {
   "cell_type": "code",
   "execution_count": 12,
   "metadata": {},
   "outputs": [
    {
     "data": {
      "image/png": "[encoded data removed]",
      "text/plain": [
       "<Figure size 1008x432 with 1 Axes>"
      ]
     },
     "metadata": {
      "needs_background": "light"
     },
     "output_type": "display_data"
    }
   ],
   "source": [
    "ax = sales[\"Unit_Cost\"].plot(kind=\"density\", figsize=(14,6))\n",
    "ax = plt.axvline(sales[\"Unit_Cost\"].mean(), color=\"red\")\n",
    "ax = plt.axvline(sales[\"Unit_Cost\"].median(), color=\"green\")"
   ]
  },
  {
   "cell_type": "code",
   "execution_count": 13,
   "metadata": {},
   "outputs": [
    {
     "data": {
      "text/plain": [
       "Text(0.5, 0, 'Dollars')"
      ]
     },
     "execution_count": 13,
     "metadata": {},
     "output_type": "execute_result"
    },
    {
     "data": {
      "image/png": "[encoded data removed]",
      "text/plain": [
       "<Figure size 1008x432 with 1 Axes>"
      ]
     },
     "metadata": {
      "needs_background": "light"
     },
     "output_type": "display_data"
    }
   ],
   "source": [
    "ax = sales[\"Unit_Cost\"].plot(kind=\"hist\", figsize=(14,6))\n",
    "ax.set_ylabel(\"Number of sales\")\n",
    "ax.set_xlabel(\"Dollars\")"
   ]
  },
  {
   "cell_type": "code",
   "execution_count": 14,
   "metadata": {},
   "outputs": [],
   "source": [
    "import tensorflow as tf\n",
    "from tensorflow import keras\n",
    "import pandas as pd"
   ]
  },
  {
   "cell_type": "code",
   "execution_count": 15,
   "metadata": {},
   "outputs": [
    {
     "data": {
      "text/plain": [
       "'/home/aggreyah/.keras/datasets/auto-mpg.data'"
      ]
     },
     "execution_count": 15,
     "metadata": {},
     "output_type": "execute_result"
    }
   ],
   "source": [
    "dataset_path = keras.utils.get_file(\"auto-mpg.data\", \"https://archive.ics.uci.edu/ml/machine-learning-databases/auto-mpg/auto-mpg.data\")\n",
    "dataset_path"
   ]
  },
  {
   "cell_type": "code",
   "execution_count": 16,
   "metadata": {},
   "outputs": [
    {
     "data": {
      "text/html": [
       "<div>\n",
       "<style scoped>\n",
       "    .dataframe tbody tr th:only-of-type {\n",
       "        vertical-align: middle;\n",
       "    }\n",
       "\n",
       "    .dataframe tbody tr th {\n",
       "        vertical-align: top;\n",
       "    }\n",
       "\n",
       "    .dataframe thead th {\n",
       "        text-align: right;\n",
       "    }\n",
       "</style>\n",
       "<table border=\"1\" class=\"dataframe\">\n",
       "  <thead>\n",
       "    <tr style=\"text-align: right;\">\n",
       "      <th></th>\n",
       "      <th>MPG</th>\n",
       "      <th>Cylinders</th>\n",
       "      <th>Displacement</th>\n",
       "      <th>Horsepower</th>\n",
       "      <th>Weight</th>\n",
       "      <th>Acceleration</th>\n",
       "      <th>Model Year</th>\n",
       "      <th>Origin</th>\n",
       "    </tr>\n",
       "  </thead>\n",
       "  <tbody>\n",
       "    <tr>\n",
       "      <th>393</th>\n",
       "      <td>27.0</td>\n",
       "      <td>4</td>\n",
       "      <td>140.0</td>\n",
       "      <td>86.0</td>\n",
       "      <td>2790.0</td>\n",
       "      <td>15.6</td>\n",
       "      <td>82</td>\n",
       "      <td>1</td>\n",
       "    </tr>\n",
       "    <tr>\n",
       "      <th>394</th>\n",
       "      <td>44.0</td>\n",
       "      <td>4</td>\n",
       "      <td>97.0</td>\n",
       "      <td>52.0</td>\n",
       "      <td>2130.0</td>\n",
       "      <td>24.6</td>\n",
       "      <td>82</td>\n",
       "      <td>2</td>\n",
       "    </tr>\n",
       "    <tr>\n",
       "      <th>395</th>\n",
       "      <td>32.0</td>\n",
       "      <td>4</td>\n",
       "      <td>135.0</td>\n",
       "      <td>84.0</td>\n",
       "      <td>2295.0</td>\n",
       "      <td>11.6</td>\n",
       "      <td>82</td>\n",
       "      <td>1</td>\n",
       "    </tr>\n",
       "    <tr>\n",
       "      <th>396</th>\n",
       "      <td>28.0</td>\n",
       "      <td>4</td>\n",
       "      <td>120.0</td>\n",
       "      <td>79.0</td>\n",
       "      <td>2625.0</td>\n",
       "      <td>18.6</td>\n",
       "      <td>82</td>\n",
       "      <td>1</td>\n",
       "    </tr>\n",
       "    <tr>\n",
       "      <th>397</th>\n",
       "      <td>31.0</td>\n",
       "      <td>4</td>\n",
       "      <td>119.0</td>\n",
       "      <td>82.0</td>\n",
       "      <td>2720.0</td>\n",
       "      <td>19.4</td>\n",
       "      <td>82</td>\n",
       "      <td>1</td>\n",
       "    </tr>\n",
       "  </tbody>\n",
       "</table>\n",
       "</div>"
      ],
      "text/plain": [
       "      MPG  Cylinders  Displacement  Horsepower  Weight  Acceleration  \\\n",
       "393  27.0          4         140.0        86.0  2790.0          15.6   \n",
       "394  44.0          4          97.0        52.0  2130.0          24.6   \n",
       "395  32.0          4         135.0        84.0  2295.0          11.6   \n",
       "396  28.0          4         120.0        79.0  2625.0          18.6   \n",
       "397  31.0          4         119.0        82.0  2720.0          19.4   \n",
       "\n",
       "     Model Year  Origin  \n",
       "393          82       1  \n",
       "394          82       2  \n",
       "395          82       1  \n",
       "396          82       1  \n",
       "397          82       1  "
      ]
     },
     "execution_count": 16,
     "metadata": {},
     "output_type": "execute_result"
    }
   ],
   "source": [
    "column_names = [\"MPG\", \"Cylinders\", \"Displacement\", \"Horsepower\", \"Weight\", \"Acceleration\", \"Model Year\", \"Origin\"]\n",
    "raw_dataset = pd.read_csv(dataset_path, names=column_names, na_values=\"?\", comment=\"\\t\", sep=\" \", skipinitialspace=True)\n",
    "dataset = raw_dataset.copy()\n",
    "dataset.tail()"
   ]
  },
  {
   "cell_type": "code",
   "execution_count": 17,
   "metadata": {},
   "outputs": [
    {
     "data": {
      "text/plain": [
       "MPG             0\n",
       "Cylinders       0\n",
       "Displacement    0\n",
       "Horsepower      6\n",
       "Weight          0\n",
       "Acceleration    0\n",
       "Model Year      0\n",
       "Origin          0\n",
       "dtype: int64"
      ]
     },
     "execution_count": 17,
     "metadata": {},
     "output_type": "execute_result"
    }
   ],
   "source": [
    "dataset.isna().sum()"
   ]
  },
  {
   "cell_type": "code",
   "execution_count": 18,
   "metadata": {},
   "outputs": [
    {
     "data": {
      "text/plain": [
       "(398, 8)"
      ]
     },
     "execution_count": 18,
     "metadata": {},
     "output_type": "execute_result"
    }
   ],
   "source": [
    "dataset.shape\n"
   ]
  },
  {
   "cell_type": "code",
   "execution_count": 19,
   "metadata": {},
   "outputs": [],
   "source": [
    "dataset = dataset.dropna()"
   ]
  },
  {
   "cell_type": "code",
   "execution_count": 20,
   "metadata": {},
   "outputs": [
    {
     "data": {
      "text/plain": [
       "(392, 8)"
      ]
     },
     "execution_count": 20,
     "metadata": {},
     "output_type": "execute_result"
    }
   ],
   "source": [
    "dataset.shape"
   ]
  },
  {
   "cell_type": "code",
   "execution_count": 21,
   "metadata": {},
   "outputs": [
    {
     "data": {
      "text/plain": [
       "(2, 5)"
      ]
     },
     "execution_count": 21,
     "metadata": {},
     "output_type": "execute_result"
    }
   ],
   "source": [
    "a = np.array(([1,2,3,4,5], [5,6,7,8,9]))\n",
    "a.shape"
   ]
  },
  {
   "cell_type": "code",
   "execution_count": 22,
   "metadata": {},
   "outputs": [
    {
     "data": {
      "text/plain": [
       "dtype('int64')"
      ]
     },
     "execution_count": 22,
     "metadata": {},
     "output_type": "execute_result"
    }
   ],
   "source": [
    "a.dtype"
   ]
  },
  {
   "cell_type": "code",
   "execution_count": 23,
   "metadata": {},
   "outputs": [
    {
     "data": {
      "text/plain": [
       "dtype('<U1')"
      ]
     },
     "execution_count": 23,
     "metadata": {},
     "output_type": "execute_result"
    }
   ],
   "source": [
    "b = np.array([\"a\", \"b\", \"c\"])\n",
    "b.dtype"
   ]
  },
  {
   "cell_type": "code",
   "execution_count": 24,
   "metadata": {},
   "outputs": [
    {
     "data": {
      "text/plain": [
       "(3, 1, 3)"
      ]
     },
     "execution_count": 24,
     "metadata": {},
     "output_type": "execute_result"
    }
   ],
   "source": [
    "c = np.array([\n",
    "       [[1, 2, 3]],\n",
    "       [[5, 6, 7]],\n",
    "       [[8, 9, 10]]\n",
    "    ])\n",
    "c.shape"
   ]
  },
  {
   "cell_type": "code",
   "execution_count": 25,
   "metadata": {},
   "outputs": [
    {
     "data": {
      "text/plain": [
       "array([10, 11, 12, 13])"
      ]
     },
     "execution_count": 25,
     "metadata": {},
     "output_type": "execute_result"
    }
   ],
   "source": [
    "a = np.arange(4)\n",
    "a += 10\n",
    "a"
   ]
  },
  {
   "cell_type": "code",
   "execution_count": 26,
   "metadata": {},
   "outputs": [
    {
     "data": {
      "text/plain": [
       "(4,)"
      ]
     },
     "execution_count": 26,
     "metadata": {},
     "output_type": "execute_result"
    }
   ],
   "source": [
    "a.shape"
   ]
  },
  {
   "cell_type": "code",
   "execution_count": 27,
   "metadata": {},
   "outputs": [
    {
     "data": {
      "text/plain": [
       "array([10, 13])"
      ]
     },
     "execution_count": 27,
     "metadata": {},
     "output_type": "execute_result"
    }
   ],
   "source": [
    "a[[0, -1]]"
   ]
  },
  {
   "cell_type": "code",
   "execution_count": 28,
   "metadata": {},
   "outputs": [
    {
     "data": {
      "text/plain": [
       "(10, 13)"
      ]
     },
     "execution_count": 28,
     "metadata": {},
     "output_type": "execute_result"
    }
   ],
   "source": [
    "a[0], a[-1]"
   ]
  },
  {
   "cell_type": "code",
   "execution_count": 29,
   "metadata": {},
   "outputs": [
    {
     "data": {
      "text/plain": [
       "array([10, 13])"
      ]
     },
     "execution_count": 29,
     "metadata": {},
     "output_type": "execute_result"
    }
   ],
   "source": [
    "a[[True, False, False, True]]"
   ]
  },
  {
   "cell_type": "code",
   "execution_count": 30,
   "metadata": {},
   "outputs": [
    {
     "data": {
      "text/plain": [
       "array([11, 12, 13])"
      ]
     },
     "execution_count": 30,
     "metadata": {},
     "output_type": "execute_result"
    }
   ],
   "source": [
    "a[a > 10]"
   ]
  },
  {
   "cell_type": "code",
   "execution_count": 31,
   "metadata": {},
   "outputs": [
    {
     "data": {
      "text/plain": [
       "11.5"
      ]
     },
     "execution_count": 31,
     "metadata": {},
     "output_type": "execute_result"
    }
   ],
   "source": [
    "a.mean()"
   ]
  },
  {
   "cell_type": "code",
   "execution_count": 32,
   "metadata": {},
   "outputs": [],
   "source": [
    "A = np.array([\n",
    "    [1, 2, 3],\n",
    "    [4, 5, 6],\n",
    "    [7, 8, 9]\n",
    "])"
   ]
  },
  {
   "cell_type": "code",
   "execution_count": 33,
   "metadata": {},
   "outputs": [],
   "source": [
    "B = np.array([\n",
    "    [6, 5],\n",
    "    [4, 3],\n",
    "    [2, 1]\n",
    "])"
   ]
  },
  {
   "cell_type": "code",
   "execution_count": 34,
   "metadata": {},
   "outputs": [
    {
     "data": {
      "text/plain": [
       "array([[20, 14],\n",
       "       [56, 41],\n",
       "       [92, 68]])"
      ]
     },
     "execution_count": 34,
     "metadata": {},
     "output_type": "execute_result"
    }
   ],
   "source": [
    "A.dot(B)"
   ]
  },
  {
   "cell_type": "code",
   "execution_count": 35,
   "metadata": {},
   "outputs": [
    {
     "data": {
      "text/plain": [
       "array([[20, 14],\n",
       "       [56, 41],\n",
       "       [92, 68]])"
      ]
     },
     "execution_count": 35,
     "metadata": {},
     "output_type": "execute_result"
    }
   ],
   "source": [
    "A @ B"
   ]
  },
  {
   "cell_type": "code",
   "execution_count": 36,
   "metadata": {},
   "outputs": [
    {
     "data": {
      "text/plain": [
       "array([[6, 4, 2],\n",
       "       [5, 3, 1]])"
      ]
     },
     "execution_count": 36,
     "metadata": {},
     "output_type": "execute_result"
    }
   ],
   "source": [
    "B.T"
   ]
  },
  {
   "cell_type": "code",
   "execution_count": 37,
   "metadata": {},
   "outputs": [
    {
     "data": {
      "text/plain": [
       "array([[36, 48, 60],\n",
       "       [24, 33, 42]])"
      ]
     },
     "execution_count": 37,
     "metadata": {},
     "output_type": "execute_result"
    }
   ],
   "source": [
    "B.T @ A"
   ]
  },
  {
   "cell_type": "code",
   "execution_count": 38,
   "metadata": {},
   "outputs": [
    {
     "data": {
      "text/plain": [
       "28"
      ]
     },
     "execution_count": 38,
     "metadata": {},
     "output_type": "execute_result"
    }
   ],
   "source": [
    "sys.getsizeof(1)"
   ]
  },
  {
   "cell_type": "code",
   "execution_count": 39,
   "metadata": {},
   "outputs": [
    {
     "data": {
      "text/plain": [
       "72"
      ]
     },
     "execution_count": 39,
     "metadata": {},
     "output_type": "execute_result"
    }
   ],
   "source": [
    "sys.getsizeof(10**100)"
   ]
  },
  {
   "cell_type": "code",
   "execution_count": 40,
   "metadata": {},
   "outputs": [
    {
     "data": {
      "text/plain": [
       "8"
      ]
     },
     "execution_count": 40,
     "metadata": {},
     "output_type": "execute_result"
    }
   ],
   "source": [
    "np.dtype(int).itemsize"
   ]
  },
  {
   "cell_type": "code",
   "execution_count": 41,
   "metadata": {},
   "outputs": [
    {
     "data": {
      "text/plain": [
       "8"
      ]
     },
     "execution_count": 41,
     "metadata": {},
     "output_type": "execute_result"
    }
   ],
   "source": [
    "np.dtype(np.int64).itemsize"
   ]
  },
  {
   "cell_type": "code",
   "execution_count": 42,
   "metadata": {},
   "outputs": [
    {
     "data": {
      "text/plain": [
       "64"
      ]
     },
     "execution_count": 42,
     "metadata": {},
     "output_type": "execute_result"
    }
   ],
   "source": [
    "sys.getsizeof([1])"
   ]
  },
  {
   "cell_type": "code",
   "execution_count": 43,
   "metadata": {},
   "outputs": [
    {
     "data": {
      "text/plain": [
       "8"
      ]
     },
     "execution_count": 43,
     "metadata": {},
     "output_type": "execute_result"
    }
   ],
   "source": [
    "np.array([1]).nbytes"
   ]
  },
  {
   "cell_type": "code",
   "execution_count": 44,
   "metadata": {},
   "outputs": [],
   "source": [
    "l = list(range(100000))"
   ]
  },
  {
   "cell_type": "code",
   "execution_count": 45,
   "metadata": {},
   "outputs": [],
   "source": [
    "a = np.arange(100000)"
   ]
  },
  {
   "cell_type": "code",
   "execution_count": 46,
   "metadata": {},
   "outputs": [
    {
     "name": "stdout",
     "output_type": "stream",
     "text": [
      "CPU times: user 577 µs, sys: 164 µs, total: 741 µs\n",
      "Wall time: 329 µs\n"
     ]
    },
    {
     "data": {
      "text/plain": [
       "333328333350000"
      ]
     },
     "execution_count": 46,
     "metadata": {},
     "output_type": "execute_result"
    }
   ],
   "source": [
    "%time np.sum(a ** 2)"
   ]
  },
  {
   "cell_type": "code",
   "execution_count": 47,
   "metadata": {},
   "outputs": [
    {
     "name": "stdout",
     "output_type": "stream",
     "text": [
      "CPU times: user 28 ms, sys: 0 ns, total: 28 ms\n",
      "Wall time: 27.6 ms\n"
     ]
    },
    {
     "data": {
      "text/plain": [
       "333328333350000"
      ]
     },
     "execution_count": 47,
     "metadata": {},
     "output_type": "execute_result"
    }
   ],
   "source": [
    "%time sum([x ** 2 for x in l])"
   ]
  },
  {
   "cell_type": "code",
   "execution_count": 48,
   "metadata": {},
   "outputs": [],
   "source": [
    "g7_pop = pd.Series([35.467, 63.951, 80.940, 68.665, 127.061, 64.511, 318.523])"
   ]
  },
  {
   "cell_type": "code",
   "execution_count": 49,
   "metadata": {},
   "outputs": [],
   "source": [
    "g7_pop.name = \"G7 Population in Millions.\""
   ]
  },
  {
   "cell_type": "code",
   "execution_count": 50,
   "metadata": {},
   "outputs": [
    {
     "data": {
      "text/plain": [
       "array([ 35.467,  63.951,  80.94 ,  68.665, 127.061,  64.511, 318.523])"
      ]
     },
     "execution_count": 50,
     "metadata": {},
     "output_type": "execute_result"
    }
   ],
   "source": [
    "g7_pop.values"
   ]
  },
  {
   "cell_type": "code",
   "execution_count": 51,
   "metadata": {},
   "outputs": [],
   "source": [
    "g7_pop.index = [\n",
    "    \"Canada\",\n",
    "    \"France\",\n",
    "    \"Germany\",\n",
    "    \"Italy\",\n",
    "    \"Japan\",\n",
    "    \"United Kingdom\",\n",
    "    \"United States\"\n",
    "]"
   ]
  },
  {
   "cell_type": "code",
   "execution_count": 52,
   "metadata": {},
   "outputs": [
    {
     "data": {
      "text/plain": [
       "Canada             35.467\n",
       "France             63.951\n",
       "Germany            80.940\n",
       "Italy              68.665\n",
       "Japan             127.061\n",
       "United Kingdom     64.511\n",
       "United States     318.523\n",
       "Name: G7 Population in Millions., dtype: float64"
      ]
     },
     "execution_count": 52,
     "metadata": {},
     "output_type": "execute_result"
    }
   ],
   "source": [
    "g7_pop"
   ]
  },
  {
   "cell_type": "code",
   "execution_count": 53,
   "metadata": {},
   "outputs": [
    {
     "data": {
      "text/plain": [
       "318.523"
      ]
     },
     "execution_count": 53,
     "metadata": {},
     "output_type": "execute_result"
    }
   ],
   "source": [
    "g7_pop['United States']"
   ]
  },
  {
   "cell_type": "code",
   "execution_count": 54,
   "metadata": {},
   "outputs": [
    {
     "data": {
      "text/plain": [
       "318.523"
      ]
     },
     "execution_count": 54,
     "metadata": {},
     "output_type": "execute_result"
    }
   ],
   "source": [
    "g7_pop.iloc[6]"
   ]
  },
  {
   "cell_type": "code",
   "execution_count": 55,
   "metadata": {},
   "outputs": [
    {
     "data": {
      "text/plain": [
       "Canada     35.467\n",
       "France     63.951\n",
       "Germany    80.940\n",
       "Italy      68.665\n",
       "Name: G7 Population in Millions., dtype: float64"
      ]
     },
     "execution_count": 55,
     "metadata": {},
     "output_type": "execute_result"
    }
   ],
   "source": [
    "g7_pop['Canada':'Italy']"
   ]
  },
  {
   "cell_type": "code",
   "execution_count": 56,
   "metadata": {},
   "outputs": [
    {
     "data": {
      "text/plain": [
       "Canada            False\n",
       "France            False\n",
       "Germany            True\n",
       "Italy             False\n",
       "Japan              True\n",
       "United Kingdom    False\n",
       "United States      True\n",
       "Name: G7 Population in Millions., dtype: bool"
      ]
     },
     "execution_count": 56,
     "metadata": {},
     "output_type": "execute_result"
    }
   ],
   "source": [
    "g7_pop > 70"
   ]
  },
  {
   "cell_type": "code",
   "execution_count": 57,
   "metadata": {},
   "outputs": [
    {
     "data": {
      "text/plain": [
       "Germany           80.940\n",
       "Japan            127.061\n",
       "United States    318.523\n",
       "Name: G7 Population in Millions., dtype: float64"
      ]
     },
     "execution_count": 57,
     "metadata": {},
     "output_type": "execute_result"
    }
   ],
   "source": [
    "g7_pop[g7_pop > 70]"
   ]
  },
  {
   "cell_type": "code",
   "execution_count": 58,
   "metadata": {},
   "outputs": [],
   "source": [
    "df = pd.DataFrame({\n",
    "    \"Population\": [35.467, 63.951, 88.94, 68.665, 127.861, 64.511, 318.523],\n",
    "    \"GDP\" : [\n",
    "        1785387,\n",
    "        2833687,\n",
    "        3874437,\n",
    "        2167744,\n",
    "        4606327,\n",
    "        2950039,\n",
    "        17348075\n",
    "    ],\n",
    "    \"Surface Area\":[\n",
    "        9984670,\n",
    "        640679,\n",
    "        357114,\n",
    "        301336,\n",
    "        377930,\n",
    "        242495,\n",
    "        9525067\n",
    "    ],\n",
    "    \"HDI\":[\n",
    "        0.913,\n",
    "        0.888,\n",
    "        0.916,\n",
    "        0.873,\n",
    "        0.891,\n",
    "        0.907,\n",
    "        0.915\n",
    "    ],\n",
    "    \"Continent\":[\n",
    "        \"America\",\n",
    "        \"Europe\",\n",
    "        \"Europe\",\n",
    "        \"Europe\",\n",
    "        \"Asia\",\n",
    "        \"Europe\",\n",
    "        \"America\"\n",
    "    ]\n",
    "}, columns=[\"Population\", \"GDP\", \"Surface Area\", \"HDI\", \"Continent\"])"
   ]
  },
  {
   "cell_type": "code",
   "execution_count": 59,
   "metadata": {},
   "outputs": [],
   "source": [
    "df.index = [\"Canada\", \"France\", \"Germany\", \"Italy\", \"Japan\", \"United Kingdom\", \"United States\"]"
   ]
  },
  {
   "cell_type": "code",
   "execution_count": 60,
   "metadata": {},
   "outputs": [
    {
     "data": {
      "text/plain": [
       "Canada             35.467\n",
       "France             63.951\n",
       "Germany            88.940\n",
       "Italy              68.665\n",
       "Japan             127.861\n",
       "United Kingdom     64.511\n",
       "United States     318.523\n",
       "Name: Population, dtype: float64"
      ]
     },
     "execution_count": 60,
     "metadata": {},
     "output_type": "execute_result"
    }
   ],
   "source": [
    "df[\"Population\"]"
   ]
  },
  {
   "cell_type": "code",
   "execution_count": 61,
   "metadata": {},
   "outputs": [
    {
     "data": {
      "text/html": [
       "<div>\n",
       "<style scoped>\n",
       "    .dataframe tbody tr th:only-of-type {\n",
       "        vertical-align: middle;\n",
       "    }\n",
       "\n",
       "    .dataframe tbody tr th {\n",
       "        vertical-align: top;\n",
       "    }\n",
       "\n",
       "    .dataframe thead th {\n",
       "        text-align: right;\n",
       "    }\n",
       "</style>\n",
       "<table border=\"1\" class=\"dataframe\">\n",
       "  <thead>\n",
       "    <tr style=\"text-align: right;\">\n",
       "      <th></th>\n",
       "      <th>Continent</th>\n",
       "      <th>HDI</th>\n",
       "    </tr>\n",
       "  </thead>\n",
       "  <tbody>\n",
       "    <tr>\n",
       "      <th>Canada</th>\n",
       "      <td>America</td>\n",
       "      <td>0.913</td>\n",
       "    </tr>\n",
       "    <tr>\n",
       "      <th>France</th>\n",
       "      <td>Europe</td>\n",
       "      <td>0.888</td>\n",
       "    </tr>\n",
       "    <tr>\n",
       "      <th>Germany</th>\n",
       "      <td>Europe</td>\n",
       "      <td>0.916</td>\n",
       "    </tr>\n",
       "    <tr>\n",
       "      <th>Italy</th>\n",
       "      <td>Europe</td>\n",
       "      <td>0.873</td>\n",
       "    </tr>\n",
       "    <tr>\n",
       "      <th>Japan</th>\n",
       "      <td>Asia</td>\n",
       "      <td>0.891</td>\n",
       "    </tr>\n",
       "  </tbody>\n",
       "</table>\n",
       "</div>"
      ],
      "text/plain": [
       "        Continent    HDI\n",
       "Canada    America  0.913\n",
       "France     Europe  0.888\n",
       "Germany    Europe  0.916\n",
       "Italy      Europe  0.873\n",
       "Japan        Asia  0.891"
      ]
     },
     "execution_count": 61,
     "metadata": {},
     "output_type": "execute_result"
    }
   ],
   "source": [
    "df.loc[\"Canada\":\"Japan\", [\"Continent\", \"HDI\"]]"
   ]
  },
  {
   "cell_type": "code",
   "execution_count": 62,
   "metadata": {},
   "outputs": [
    {
     "data": {
      "text/html": [
       "<div>\n",
       "<style scoped>\n",
       "    .dataframe tbody tr th:only-of-type {\n",
       "        vertical-align: middle;\n",
       "    }\n",
       "\n",
       "    .dataframe tbody tr th {\n",
       "        vertical-align: top;\n",
       "    }\n",
       "\n",
       "    .dataframe thead th {\n",
       "        text-align: right;\n",
       "    }\n",
       "</style>\n",
       "<table border=\"1\" class=\"dataframe\">\n",
       "  <thead>\n",
       "    <tr style=\"text-align: right;\">\n",
       "      <th></th>\n",
       "      <th>Population</th>\n",
       "      <th>HDI</th>\n",
       "    </tr>\n",
       "  </thead>\n",
       "  <tbody>\n",
       "    <tr>\n",
       "      <th>Germany</th>\n",
       "      <td>88.940</td>\n",
       "      <td>0.916</td>\n",
       "    </tr>\n",
       "    <tr>\n",
       "      <th>Japan</th>\n",
       "      <td>127.861</td>\n",
       "      <td>0.891</td>\n",
       "    </tr>\n",
       "    <tr>\n",
       "      <th>United States</th>\n",
       "      <td>318.523</td>\n",
       "      <td>0.915</td>\n",
       "    </tr>\n",
       "  </tbody>\n",
       "</table>\n",
       "</div>"
      ],
      "text/plain": [
       "               Population    HDI\n",
       "Germany            88.940  0.916\n",
       "Japan             127.861  0.891\n",
       "United States     318.523  0.915"
      ]
     },
     "execution_count": 62,
     "metadata": {},
     "output_type": "execute_result"
    }
   ],
   "source": [
    "df.loc[df[\"Population\"] >= 70, [\"Population\", \"HDI\"]]"
   ]
  },
  {
   "cell_type": "code",
   "execution_count": 63,
   "metadata": {},
   "outputs": [
    {
     "data": {
      "text/plain": [
       "Canada             7\n",
       "France             8\n",
       "Germany            9\n",
       "Italy             45\n",
       "Japan             23\n",
       "United Kingdom    45\n",
       "United States     10\n",
       "dtype: int64"
      ]
     },
     "execution_count": 63,
     "metadata": {},
     "output_type": "execute_result"
    }
   ],
   "source": [
    "ser = pd.Series([7, 8, 9, 45, 23,45, 10], index=list(df.index))\n",
    "ser"
   ]
  },
  {
   "cell_type": "code",
   "execution_count": 64,
   "metadata": {},
   "outputs": [
    {
     "name": "stdout",
     "output_type": "stream",
     "text": [
      "                Population       GDP  Surface Area    HDI Continent  Crazy\n",
      "Canada              35.467   1785387       9984670  0.913   America      7\n",
      "France              63.951   2833687        640679  0.888    Europe      8\n",
      "Germany             88.940   3874437        357114  0.916    Europe      9\n",
      "Italy               68.665   2167744        301336  0.873    Europe     45\n",
      "Japan              127.861   4606327        377930  0.891      Asia     23\n",
      "United Kingdom      64.511   2950039        242495  0.907    Europe     45\n",
      "United States      318.523  17348075       9525067  0.915   America     10\n"
     ]
    }
   ],
   "source": [
    "df[\"Crazy\"] = ser\n",
    "print(df)"
   ]
  },
  {
   "cell_type": "code",
   "execution_count": 65,
   "metadata": {},
   "outputs": [],
   "source": [
    "df[\"GDP Per Capita\"] = df[\"GDP\"] / df[\"Population\"]"
   ]
  },
  {
   "cell_type": "code",
   "execution_count": 66,
   "metadata": {},
   "outputs": [
    {
     "data": {
      "text/html": [
       "<div>\n",
       "<style scoped>\n",
       "    .dataframe tbody tr th:only-of-type {\n",
       "        vertical-align: middle;\n",
       "    }\n",
       "\n",
       "    .dataframe tbody tr th {\n",
       "        vertical-align: top;\n",
       "    }\n",
       "\n",
       "    .dataframe thead th {\n",
       "        text-align: right;\n",
       "    }\n",
       "</style>\n",
       "<table border=\"1\" class=\"dataframe\">\n",
       "  <thead>\n",
       "    <tr style=\"text-align: right;\">\n",
       "      <th></th>\n",
       "      <th>Population</th>\n",
       "      <th>GDP</th>\n",
       "      <th>Surface Area</th>\n",
       "      <th>HDI</th>\n",
       "      <th>Continent</th>\n",
       "      <th>Crazy</th>\n",
       "      <th>GDP Per Capita</th>\n",
       "    </tr>\n",
       "  </thead>\n",
       "  <tbody>\n",
       "    <tr>\n",
       "      <th>Canada</th>\n",
       "      <td>35.467</td>\n",
       "      <td>1785387</td>\n",
       "      <td>9984670</td>\n",
       "      <td>0.913</td>\n",
       "      <td>America</td>\n",
       "      <td>7</td>\n",
       "      <td>50339.385908</td>\n",
       "    </tr>\n",
       "    <tr>\n",
       "      <th>France</th>\n",
       "      <td>63.951</td>\n",
       "      <td>2833687</td>\n",
       "      <td>640679</td>\n",
       "      <td>0.888</td>\n",
       "      <td>Europe</td>\n",
       "      <td>8</td>\n",
       "      <td>44310.284437</td>\n",
       "    </tr>\n",
       "    <tr>\n",
       "      <th>Germany</th>\n",
       "      <td>88.940</td>\n",
       "      <td>3874437</td>\n",
       "      <td>357114</td>\n",
       "      <td>0.916</td>\n",
       "      <td>Europe</td>\n",
       "      <td>9</td>\n",
       "      <td>43562.367888</td>\n",
       "    </tr>\n",
       "    <tr>\n",
       "      <th>Italy</th>\n",
       "      <td>68.665</td>\n",
       "      <td>2167744</td>\n",
       "      <td>301336</td>\n",
       "      <td>0.873</td>\n",
       "      <td>Europe</td>\n",
       "      <td>45</td>\n",
       "      <td>31569.853637</td>\n",
       "    </tr>\n",
       "    <tr>\n",
       "      <th>Japan</th>\n",
       "      <td>127.861</td>\n",
       "      <td>4606327</td>\n",
       "      <td>377930</td>\n",
       "      <td>0.891</td>\n",
       "      <td>Asia</td>\n",
       "      <td>23</td>\n",
       "      <td>36026.051728</td>\n",
       "    </tr>\n",
       "    <tr>\n",
       "      <th>United Kingdom</th>\n",
       "      <td>64.511</td>\n",
       "      <td>2950039</td>\n",
       "      <td>242495</td>\n",
       "      <td>0.907</td>\n",
       "      <td>Europe</td>\n",
       "      <td>45</td>\n",
       "      <td>45729.239975</td>\n",
       "    </tr>\n",
       "    <tr>\n",
       "      <th>United States</th>\n",
       "      <td>318.523</td>\n",
       "      <td>17348075</td>\n",
       "      <td>9525067</td>\n",
       "      <td>0.915</td>\n",
       "      <td>America</td>\n",
       "      <td>10</td>\n",
       "      <td>54464.120330</td>\n",
       "    </tr>\n",
       "  </tbody>\n",
       "</table>\n",
       "</div>"
      ],
      "text/plain": [
       "                Population       GDP  Surface Area    HDI Continent  Crazy  \\\n",
       "Canada              35.467   1785387       9984670  0.913   America      7   \n",
       "France              63.951   2833687        640679  0.888    Europe      8   \n",
       "Germany             88.940   3874437        357114  0.916    Europe      9   \n",
       "Italy               68.665   2167744        301336  0.873    Europe     45   \n",
       "Japan              127.861   4606327        377930  0.891      Asia     23   \n",
       "United Kingdom      64.511   2950039        242495  0.907    Europe     45   \n",
       "United States      318.523  17348075       9525067  0.915   America     10   \n",
       "\n",
       "                GDP Per Capita  \n",
       "Canada            50339.385908  \n",
       "France            44310.284437  \n",
       "Germany           43562.367888  \n",
       "Italy             31569.853637  \n",
       "Japan             36026.051728  \n",
       "United Kingdom    45729.239975  \n",
       "United States     54464.120330  "
      ]
     },
     "execution_count": 66,
     "metadata": {},
     "output_type": "execute_result"
    }
   ],
   "source": [
    "df"
   ]
  },
  {
   "cell_type": "code",
   "execution_count": 67,
   "metadata": {},
   "outputs": [],
   "source": [
    "s = pd.Series([1, 2, 3, np.nan, np.nan, 4])"
   ]
  },
  {
   "cell_type": "code",
   "execution_count": 68,
   "metadata": {},
   "outputs": [
    {
     "data": {
      "text/plain": [
       "4"
      ]
     },
     "execution_count": 68,
     "metadata": {},
     "output_type": "execute_result"
    }
   ],
   "source": [
    "pd.notnull(s).sum()"
   ]
  },
  {
   "cell_type": "code",
   "execution_count": 69,
   "metadata": {},
   "outputs": [
    {
     "data": {
      "text/plain": [
       "0    1.0\n",
       "1    2.0\n",
       "2    3.0\n",
       "5    4.0\n",
       "dtype: float64"
      ]
     },
     "execution_count": 69,
     "metadata": {},
     "output_type": "execute_result"
    }
   ],
   "source": [
    "s[pd.notnull(s)]"
   ]
  },
  {
   "cell_type": "markdown",
   "metadata": {},
   "source": [
    "Object Oriented Matplotlib Interface"
   ]
  },
  {
   "cell_type": "code",
   "execution_count": 70,
   "metadata": {},
   "outputs": [
    {
     "data": {
      "image/png": "[encoded data removed]",
      "text/plain": [
       "<Figure size 864x432 with 1 Axes>"
      ]
     },
     "metadata": {
      "needs_background": "light"
     },
     "output_type": "display_data"
    }
   ],
   "source": [
    "x = np.arange(-10, 11)\n",
    "fig, axes = plt.subplots(figsize= (12, 6))"
   ]
  },
  {
   "cell_type": "code",
   "execution_count": 71,
   "metadata": {},
   "outputs": [
    {
     "data": {
      "image/png": "[encoded data removed]",
      "text/plain": [
       "<Figure size 864x432 with 1 Axes>"
      ]
     },
     "execution_count": 71,
     "metadata": {},
     "output_type": "execute_result"
    }
   ],
   "source": [
    "axes.plot(\n",
    "    x, x**2, color='red', linewidth=3,\n",
    "    marker='o', markersize=8, label='X^2'\n",
    ")\n",
    "axes.plot(x, -1*(x**2), 'b--', label='-X^2')\n",
    "axes.set_xlabel('X')\n",
    "axes.set_ylabel('X Squared')\n",
    "axes.set_title('My Nice Plot')\n",
    "axes.legend()\n",
    "fig"
   ]
  },
  {
   "cell_type": "code",
   "execution_count": 72,
   "metadata": {},
   "outputs": [],
   "source": [
    "import sqlite3"
   ]
  },
  {
   "cell_type": "code",
   "execution_count": null,
   "metadata": {},
   "outputs": [],
   "source": [
    "conn = sqlite3.connect('./some-data/sakila.db')"
   ]
  },
  {
   "cell_type": "code",
   "execution_count": 80,
   "metadata": {},
   "outputs": [],
   "source": [
    "cur = conn.cursor()"
   ]
  },
  {
   "cell_type": "code",
   "execution_count": 81,
   "metadata": {},
   "outputs": [
    {
     "data": {
      "text/plain": [
       "<sqlite3.Cursor at 0x7f8603306110>"
      ]
     },
     "execution_count": 81,
     "metadata": {},
     "output_type": "execute_result"
    }
   ],
   "source": [
    "cur.execute('SELECT * FROM country LIMIT 5;')"
   ]
  },
  {
   "cell_type": "code",
   "execution_count": 82,
   "metadata": {},
   "outputs": [],
   "source": [
    "results = cur.fetchall()"
   ]
  },
  {
   "cell_type": "code",
   "execution_count": 83,
   "metadata": {},
   "outputs": [
    {
     "data": {
      "text/plain": [
       "[(1, 'Afghanistan', '2019-04-11 18:11:48'),\n",
       " (2, 'Algeria', '2019-04-11 18:11:48'),\n",
       " (3, 'American Samoa', '2019-04-11 18:11:48'),\n",
       " (4, 'Angola', '2019-04-11 18:11:48'),\n",
       " (5, 'Anguilla', '2019-04-11 18:11:48')]"
      ]
     },
     "execution_count": 83,
     "metadata": {},
     "output_type": "execute_result"
    }
   ],
   "source": [
    "results"
   ]
  },
  {
   "cell_type": "code",
   "execution_count": 84,
   "metadata": {},
   "outputs": [],
   "source": [
    "df = pd.DataFrame(results)"
   ]
  },
  {
   "cell_type": "code",
   "execution_count": null,
   "metadata": {},
   "outputs": [],
   "source": [
    "df"
   ]
  },
  {
   "cell_type": "code",
   "execution_count": 86,
   "metadata": {},
   "outputs": [],
   "source": [
    "cur.close()\n",
    "conn.close()"
   ]
  },
  {
   "cell_type": "code",
   "execution_count": 88,
   "metadata": {},
   "outputs": [],
   "source": [
    "df1 = pd.read_sql('SELECT * FROM country LIMIT 5;', conn)"
   ]
  },
  {
   "cell_type": "code",
   "execution_count": 89,
   "metadata": {},
   "outputs": [
    {
     "data": {
      "text/html": [
       "<div>\n",
       "<style scoped>\n",
       "    .dataframe tbody tr th:only-of-type {\n",
       "        vertical-align: middle;\n",
       "    }\n",
       "\n",
       "    .dataframe tbody tr th {\n",
       "        vertical-align: top;\n",
       "    }\n",
       "\n",
       "    .dataframe thead th {\n",
       "        text-align: right;\n",
       "    }\n",
       "</style>\n",
       "<table border=\"1\" class=\"dataframe\">\n",
       "  <thead>\n",
       "    <tr style=\"text-align: right;\">\n",
       "      <th></th>\n",
       "      <th>country_id</th>\n",
       "      <th>country</th>\n",
       "      <th>last_update</th>\n",
       "    </tr>\n",
       "  </thead>\n",
       "  <tbody>\n",
       "    <tr>\n",
       "      <th>0</th>\n",
       "      <td>1</td>\n",
       "      <td>Afghanistan</td>\n",
       "      <td>2019-04-11 18:11:48</td>\n",
       "    </tr>\n",
       "    <tr>\n",
       "      <th>1</th>\n",
       "      <td>2</td>\n",
       "      <td>Algeria</td>\n",
       "      <td>2019-04-11 18:11:48</td>\n",
       "    </tr>\n",
       "    <tr>\n",
       "      <th>2</th>\n",
       "      <td>3</td>\n",
       "      <td>American Samoa</td>\n",
       "      <td>2019-04-11 18:11:48</td>\n",
       "    </tr>\n",
       "    <tr>\n",
       "      <th>3</th>\n",
       "      <td>4</td>\n",
       "      <td>Angola</td>\n",
       "      <td>2019-04-11 18:11:48</td>\n",
       "    </tr>\n",
       "    <tr>\n",
       "      <th>4</th>\n",
       "      <td>5</td>\n",
       "      <td>Anguilla</td>\n",
       "      <td>2019-04-11 18:11:48</td>\n",
       "    </tr>\n",
       "  </tbody>\n",
       "</table>\n",
       "</div>"
      ],
      "text/plain": [
       "   country_id         country          last_update\n",
       "0           1     Afghanistan  2019-04-11 18:11:48\n",
       "1           2         Algeria  2019-04-11 18:11:48\n",
       "2           3  American Samoa  2019-04-11 18:11:48\n",
       "3           4          Angola  2019-04-11 18:11:48\n",
       "4           5        Anguilla  2019-04-11 18:11:48"
      ]
     },
     "execution_count": 89,
     "metadata": {},
     "output_type": "execute_result"
    }
   ],
   "source": [
    "df1"
   ]
  },
  {
   "cell_type": "code",
   "execution_count": 91,
   "metadata": {},
   "outputs": [],
   "source": [
    "import requests\n",
    "html_url = \"https://en.wikipedia.org/wiki/The_Simpsons\""
   ]
  },
  {
   "cell_type": "code",
   "execution_count": 92,
   "metadata": {},
   "outputs": [],
   "source": [
    "r = requests.get(html_url)\n",
    "wiki_tables = pd.read_html(r.text, header=0)"
   ]
  },
  {
   "cell_type": "code",
   "execution_count": 93,
   "metadata": {},
   "outputs": [
    {
     "data": {
      "text/plain": [
       "27"
      ]
     },
     "execution_count": 93,
     "metadata": {},
     "output_type": "execute_result"
    }
   ],
   "source": [
    "len(wiki_tables)"
   ]
  },
  {
   "cell_type": "code",
   "execution_count": 94,
   "metadata": {},
   "outputs": [],
   "source": [
    "simpsons = wiki_tables[1]"
   ]
  },
  {
   "cell_type": "code",
   "execution_count": 95,
   "metadata": {},
   "outputs": [
    {
     "data": {
      "text/html": [
       "<div>\n",
       "<style scoped>\n",
       "    .dataframe tbody tr th:only-of-type {\n",
       "        vertical-align: middle;\n",
       "    }\n",
       "\n",
       "    .dataframe tbody tr th {\n",
       "        vertical-align: top;\n",
       "    }\n",
       "\n",
       "    .dataframe thead th {\n",
       "        text-align: right;\n",
       "    }\n",
       "</style>\n",
       "<table border=\"1\" class=\"dataframe\">\n",
       "  <thead>\n",
       "    <tr style=\"text-align: right;\">\n",
       "      <th></th>\n",
       "      <th>Season</th>\n",
       "      <th>Season.1</th>\n",
       "      <th>No. ofepisodes</th>\n",
       "      <th>Originally aired</th>\n",
       "      <th>Originally aired.1</th>\n",
       "      <th>Originally aired.2</th>\n",
       "      <th>Viewership</th>\n",
       "      <th>Viewership.1</th>\n",
       "      <th>Viewership.2</th>\n",
       "    </tr>\n",
       "  </thead>\n",
       "  <tbody>\n",
       "    <tr>\n",
       "      <th>0</th>\n",
       "      <td>Season</td>\n",
       "      <td>Season</td>\n",
       "      <td>No. ofepisodes</td>\n",
       "      <td>Season premiere</td>\n",
       "      <td>Season finale</td>\n",
       "      <td>Time Slot (ET)</td>\n",
       "      <td>Avg. viewers(in millions)</td>\n",
       "      <td>Most watched episode</td>\n",
       "      <td>Most watched episode</td>\n",
       "    </tr>\n",
       "    <tr>\n",
       "      <th>1</th>\n",
       "      <td>Season</td>\n",
       "      <td>Season</td>\n",
       "      <td>No. ofepisodes</td>\n",
       "      <td>Season premiere</td>\n",
       "      <td>Season finale</td>\n",
       "      <td>Time Slot (ET)</td>\n",
       "      <td>Avg. viewers(in millions)</td>\n",
       "      <td>Viewers(millions)</td>\n",
       "      <td>Episode Title</td>\n",
       "    </tr>\n",
       "    <tr>\n",
       "      <th>2</th>\n",
       "      <td>1</td>\n",
       "      <td>1989–90</td>\n",
       "      <td>13</td>\n",
       "      <td>December 17, 1989</td>\n",
       "      <td>May 13, 1990</td>\n",
       "      <td>Sunday 8:30 pm</td>\n",
       "      <td>27.8</td>\n",
       "      <td>33.5</td>\n",
       "      <td>\"Life on the Fast Lane\"</td>\n",
       "    </tr>\n",
       "    <tr>\n",
       "      <th>3</th>\n",
       "      <td>2</td>\n",
       "      <td>1990–91</td>\n",
       "      <td>22</td>\n",
       "      <td>October 11, 1990</td>\n",
       "      <td>July 11, 1991</td>\n",
       "      <td>Thursday 8:00 pm</td>\n",
       "      <td>24.4</td>\n",
       "      <td>33.6</td>\n",
       "      <td>\"Bart Gets an F\"</td>\n",
       "    </tr>\n",
       "    <tr>\n",
       "      <th>4</th>\n",
       "      <td>3</td>\n",
       "      <td>1991–92</td>\n",
       "      <td>24</td>\n",
       "      <td>September 19, 1991</td>\n",
       "      <td>August 27, 1992</td>\n",
       "      <td>Thursday 8:00 pm</td>\n",
       "      <td>21.8</td>\n",
       "      <td>25.5</td>\n",
       "      <td>\"Colonel Homer\"</td>\n",
       "    </tr>\n",
       "  </tbody>\n",
       "</table>\n",
       "</div>"
      ],
      "text/plain": [
       "   Season Season.1  No. ofepisodes    Originally aired Originally aired.1  \\\n",
       "0  Season   Season  No. ofepisodes     Season premiere      Season finale   \n",
       "1  Season   Season  No. ofepisodes     Season premiere      Season finale   \n",
       "2       1  1989–90              13   December 17, 1989       May 13, 1990   \n",
       "3       2  1990–91              22    October 11, 1990      July 11, 1991   \n",
       "4       3  1991–92              24  September 19, 1991    August 27, 1992   \n",
       "\n",
       "  Originally aired.2                 Viewership          Viewership.1  \\\n",
       "0     Time Slot (ET)  Avg. viewers(in millions)  Most watched episode   \n",
       "1     Time Slot (ET)  Avg. viewers(in millions)     Viewers(millions)   \n",
       "2     Sunday 8:30 pm                       27.8                  33.5   \n",
       "3   Thursday 8:00 pm                       24.4                  33.6   \n",
       "4   Thursday 8:00 pm                       21.8                  25.5   \n",
       "\n",
       "              Viewership.2  \n",
       "0     Most watched episode  \n",
       "1            Episode Title  \n",
       "2  \"Life on the Fast Lane\"  \n",
       "3         \"Bart Gets an F\"  \n",
       "4          \"Colonel Homer\"  "
      ]
     },
     "execution_count": 95,
     "metadata": {},
     "output_type": "execute_result"
    }
   ],
   "source": [
    "simpsons.head()"
   ]
  }
 ],
 "metadata": {
  "kernelspec": {
   "display_name": "Python 3.8.5 64-bit",
   "language": "python",
   "name": "python38564bit0a0280cd0d8640b1abd5a44adb9b3ba3"
  },
  "language_info": {
   "codemirror_mode": {
    "name": "ipython",
    "version": 3
   },
   "file_extension": ".py",
   "mimetype": "text/x-python",
   "name": "python",
   "nbconvert_exporter": "python",
   "pygments_lexer": "ipython3",
   "version": "3.8.5"
  }
 },
 "nbformat": 4,
 "nbformat_minor": 4
}
