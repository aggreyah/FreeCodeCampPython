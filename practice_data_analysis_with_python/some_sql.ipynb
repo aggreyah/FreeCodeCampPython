{
 "cells": [
  {
   "cell_type": "code",
   "execution_count": 5,
   "metadata": {},
   "outputs": [
    {
     "name": "stdout",
     "output_type": "stream",
     "text": [
      "Connection to chinook successful.\n"
     ]
    }
   ],
   "source": [
    "import sqlite3\n",
    "conn = sqlite3.connect('./some-data/chinook.db')\n",
    "print('Connection to chinook successful.')\n",
    "conn.execute(\"\"\"CREATE TABLE my_children\n",
    "(id INT PRIMARY KEY NOT NULL,\n",
    " first_name TEXT,\n",
    " second_name TEXT,\n",
    " age INT,\n",
    " gender TEXT\n",
    ");\n",
    "\"\"\")\n",
    "conn.execute(\"\"\"\n",
    "   INSERT INTO my_children (id, first_name, second_name, age, gender)\n",
    "   VALUES (1, 'Elizabeth', 'Chao', 5, 'Female')\n",
    "\"\"\")\n",
    "conn.execute(\"\"\"\n",
    "   INSERT INTO my_children (id, first_name, second_name, age, gender)\n",
    "   VALUES (2, 'Marie', 'Curie', 2, 'Female')\n",
    "\"\"\")\n",
    "conn.execute(\"\"\"\n",
    "   INSERT INTO my_children (id, first_name, second_name, age, gender)\n",
    "   VALUES (3, 'Louis', 'Oluande', 0, 'Male')\n",
    "\"\"\")\n",
    "conn.commit()\n",
    "conn.close()"
   ]
  },
  {
   "cell_type": "code",
   "execution_count": 3,
   "metadata": {},
   "outputs": [],
   "source": []
  }
 ],
 "metadata": {
  "kernelspec": {
   "display_name": "Python 3",
   "language": "python",
   "name": "python3"
  },
  "language_info": {
   "codemirror_mode": {
    "name": "ipython",
    "version": 3
   },
   "file_extension": ".py",
   "mimetype": "text/x-python",
   "name": "python",
   "nbconvert_exporter": "python",
   "pygments_lexer": "ipython3",
   "version": "3.8.5"
  }
 },
 "nbformat": 4,
 "nbformat_minor": 4
}
